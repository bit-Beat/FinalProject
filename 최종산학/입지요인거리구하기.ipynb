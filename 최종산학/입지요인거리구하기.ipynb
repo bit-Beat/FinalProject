{
 "cells": [
  {
   "cell_type": "code",
   "execution_count": 142,
   "metadata": {},
   "outputs": [
    {
     "data": {
      "text/html": [
       "<style>.container { width:80% !important; }</style>"
      ],
      "text/plain": [
       "<IPython.core.display.HTML object>"
      ]
     },
     "metadata": {},
     "output_type": "display_data"
    }
   ],
   "source": [
    "from IPython.core.display import display, HTML \n",
    "display(HTML(\"<style>.container { width:80% !important; }</style>\"))"
   ]
  },
  {
   "cell_type": "code",
   "execution_count": 154,
   "metadata": {},
   "outputs": [],
   "source": [
    "from rainod import rb\n",
    "from haversine import haversine\n",
    "import pandas as pd\n",
    "import numpy as np\n",
    "\n",
    "import winsound\n",
    "\n",
    "def school_sound():\n",
    "    \n",
    "    sol = {'do':261,'re':293,'mi':330,'pa':347,'sol':391,'ra':440,'si':495,'do_':521} \n",
    "\n",
    "    winsound.Beep(sol['sol'],800)\n",
    "    winsound.Beep(sol['sol'],800)\n",
    "    winsound.Beep(sol['ra'],800)\n",
    "    winsound.Beep(sol['ra'],800)\n",
    "    winsound.Beep(sol['sol'],800)\n",
    "    winsound.Beep(sol['sol'],800)\n",
    "    winsound.Beep(sol['mi'],800)\n",
    "    winsound.Beep(sol['sol'],1000)\n",
    "    winsound.Beep(sol['mi'],1000)\n",
    "    winsound.Beep(sol['re'],1000)\n",
    "    winsound.Beep(sol['mi'],1000)\n",
    "    winsound.Beep(sol['do'],1000)\n",
    "    \n",
    "##### 입지점수 계산 함수\n",
    "def score(df, name):\n",
    "    df = pd.concat([df,pd.DataFrame(1/(df[name+' 평균거리'] / df[name+' 개수']))],axis=1)\n",
    "    df = df.loc[:,['주소','위도','경도',0]]\n",
    "    df.columns=['주소','위도','경도',name+' 평균거리']\n",
    "    return df"
   ]
  },
  {
   "cell_type": "code",
   "execution_count": 157,
   "metadata": {},
   "outputs": [],
   "source": [
    "songpa_df = pd.read_csv('서울시_구_좌표/송파구좌표_원본.csv',encoding='cp949')\n",
    "songpa_df = songpa_df[['주소(도로명)','위도','경도']]\n",
    "songpa_df.columns=['주소','위도','경도']\n",
    "\n",
    "seoul_total = pd.read_csv('서울시_구_좌표/서울특별시 공동주택 아파트 정보.csv', encoding='cp949')\n",
    "seoul_total=seoul_total[['kapt도로명주소','주소(시군구)','위도','경도']]\n",
    "seoul_total.columns=['주소','구명','위도','경도']"
   ]
  },
  {
   "cell_type": "code",
   "execution_count": 145,
   "metadata": {},
   "outputs": [],
   "source": [
    "fire_df = pd.read_csv('독립변수좌표/서울_소방서.csv',encoding='cp949') # 소방서 \n",
    "subway_df = pd.read_csv('독립변수좌표/서울_지하철.csv',encoding='cp949') # 지하철\n",
    "post_df = pd.read_csv('독립변수좌표/서울_우체국.csv',encoding='cp949') # 우체국\n",
    "children_df = pd.read_csv('독립변수좌표/서울_유치원.csv',encoding='cp949') # 유치원\n",
    "market_df = pd.read_csv('독립변수좌표/서울_전통시장.csv',encoding='cp949') # 전통시장\n",
    "middle_df = pd.read_csv('독립변수좌표/서울_중학교.csv',encoding='cp949') # 중학교\n",
    "element_df = pd.read_csv('독립변수좌표/서울_초등학교.csv',encoding='cp949') # 초등학교\n",
    "gs_df = pd.read_csv('독립변수좌표/서울_편의점.csv',encoding='cp949') # 편의점\n",
    "yu_df = pd.read_csv('독립변수좌표/서울_어린이집.csv',encoding='cp949') # 어린이집"
   ]
  },
  {
   "cell_type": "markdown",
   "metadata": {},
   "source": [
    "## 소방서 (FIRE)"
   ]
  },
  {
   "cell_type": "code",
   "execution_count": 146,
   "metadata": {},
   "outputs": [],
   "source": [
    "fire = rb.make_distance(seoul_total, fire_df, '소방서')\n",
    "fire = pd.concat([fire,pd.DataFrame(1/(fire['소방서 평균거리'] / fire['소방서 개수']))],axis=1)\n",
    "fire = fire.loc[:,['주소','위도','경도',0]]\n",
    "fire.columns=['주소','위도','경도','소방서 평균거리']\n",
    "school_sound()\n",
    "fire.to_csv('서울_소방서_거리계산결과.csv',encoding='cp949')"
   ]
  },
  {
   "cell_type": "markdown",
   "metadata": {},
   "source": [
    "## 지하철 (SUBWAY)"
   ]
  },
  {
   "cell_type": "code",
   "execution_count": 147,
   "metadata": {},
   "outputs": [],
   "source": [
    "subway = rb.make_distance(seoul_total,subway_df,'지하철')\n",
    "subway = score(subway,'지하철')\n",
    "school_sound()\n",
    "subway.to_csv('서울_지하철_거리계산결과.csv',encoding='cp949')"
   ]
  },
  {
   "cell_type": "markdown",
   "metadata": {},
   "source": [
    "## 우체국 (POST)"
   ]
  },
  {
   "cell_type": "code",
   "execution_count": 148,
   "metadata": {},
   "outputs": [],
   "source": [
    "post = rb.make_distance(seoul_total,post_df,'우체국')\n",
    "post = score(post,'우체국')\n",
    "school_sound()\n",
    "post.to_csv('서울_우체국_거리계산결과.csv',encoding='cp949')"
   ]
  },
  {
   "cell_type": "markdown",
   "metadata": {},
   "source": [
    "## 유치원 (CHILDREN)"
   ]
  },
  {
   "cell_type": "code",
   "execution_count": 149,
   "metadata": {},
   "outputs": [],
   "source": [
    "children = rb.make_distance(seoul_total,children_df,'유치원')\n",
    "children = score(children,'유치원')\n",
    "school_sound()\n",
    "children.to_csv('서울_유치원_거리계산결과.csv',encoding='cp949')"
   ]
  },
  {
   "cell_type": "markdown",
   "metadata": {},
   "source": [
    "## 전통시장 (MARKET)"
   ]
  },
  {
   "cell_type": "code",
   "execution_count": 160,
   "metadata": {},
   "outputs": [],
   "source": [
    "market = rb.make_distance(seoul_total,market_df,'전통시장')\n",
    "market = score(market,'전통시장')\n",
    "school_sound()\n",
    "market.to_csv('서울_전통시장_거리계산결과.csv',encoding='cp949')"
   ]
  },
  {
   "cell_type": "markdown",
   "metadata": {},
   "source": [
    "## 중학교 (MIDDLE)"
   ]
  },
  {
   "cell_type": "code",
   "execution_count": null,
   "metadata": {},
   "outputs": [],
   "source": [
    "middle = rb.make_distance(seoul_total,middle_df,'중학교')\n",
    "middle = score(middle,'중학교')\n",
    "school_sound()\n",
    "middle.to_csv('서울_중학교_거리계산결과.csv',encoding='cp949')"
   ]
  },
  {
   "cell_type": "markdown",
   "metadata": {},
   "source": [
    "## 초등학교 (ELEMENT)"
   ]
  },
  {
   "cell_type": "code",
   "execution_count": null,
   "metadata": {},
   "outputs": [],
   "source": [
    "element = rb.make_distance(seoul_total,element_df,'초등학교')\n",
    "element = score(element,'초등학교')\n",
    "school_sound()\n",
    "element.to_csv('서울_초등학교_거리계산결과.csv',encoding='cp949')"
   ]
  },
  {
   "cell_type": "markdown",
   "metadata": {},
   "source": [
    "## 편의점 (GS)"
   ]
  },
  {
   "cell_type": "code",
   "execution_count": null,
   "metadata": {},
   "outputs": [],
   "source": [
    "gs = rb.make_distance(seoul_total,gs_df,'편의점')\n",
    "gs = score(gs,'편의점')\n",
    "school_sound()\n",
    "gs.to_csv('서울_편의점_거리계산결과.csv',encoding='cp949')"
   ]
  },
  {
   "cell_type": "markdown",
   "metadata": {},
   "source": [
    "## 어린이집 (YU)"
   ]
  },
  {
   "cell_type": "code",
   "execution_count": null,
   "metadata": {},
   "outputs": [],
   "source": [
    "yu = rb.make_distance(seoul_total,yu_df,'어린이집')\n",
    "yu = score(yu,'어린이집')\n",
    "school_sound()\n",
    "yu.to_csv('서울_어린이집_거리계산결과.csv',encoding='cp949')"
   ]
  }
 ],
 "metadata": {
  "kernelspec": {
   "display_name": "Python 3",
   "language": "python",
   "name": "python3"
  },
  "language_info": {
   "codemirror_mode": {
    "name": "ipython",
    "version": 3
   },
   "file_extension": ".py",
   "mimetype": "text/x-python",
   "name": "python",
   "nbconvert_exporter": "python",
   "pygments_lexer": "ipython3",
   "version": "3.8.5"
  }
 },
 "nbformat": 4,
 "nbformat_minor": 4
}
