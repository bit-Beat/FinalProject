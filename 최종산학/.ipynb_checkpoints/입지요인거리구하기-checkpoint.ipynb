{
 "cells": [
  {
   "cell_type": "code",
   "execution_count": 1,
   "metadata": {},
   "outputs": [
    {
     "data": {
      "text/html": [
       "<style>.container { width:80% !important; }</style>"
      ],
      "text/plain": [
       "<IPython.core.display.HTML object>"
      ]
     },
     "metadata": {},
     "output_type": "display_data"
    }
   ],
   "source": [
    "from IPython.core.display import display, HTML \n",
    "display(HTML(\"<style>.container { width:80% !important; }</style>\"))"
   ]
  },
  {
   "cell_type": "code",
   "execution_count": null,
   "metadata": {},
   "outputs": [],
   "source": [
    "from rainod import rb\n",
    "from haversine import haversine\n",
    "import pandas as pd\n",
    "import numpy as np"
   ]
  },
  {
   "cell_type": "code",
   "execution_count": null,
   "metadata": {},
   "outputs": [],
   "source": [
    "songpa_df = pd.read_csv('서울시_구_좌표/송파구좌표_원본.csv',encoding='cp949')\n",
    "songpa_df = songpa_df[['주소(도로명)','위도','경도']]\n",
    "songpa_df.columns=['주소','위도','경도']"
   ]
  },
  {
   "cell_type": "code",
   "execution_count": null,
   "metadata": {},
   "outputs": [],
   "source": [
    "fire_df = pd.read_csv('독립변수좌표/서울_소방서.csv',encoding='cp949') # 소방서 \n",
    "subway_df = pd.read_csv('독립변수좌표/서울_지하철.csv',encoding='cp949') # 지하철\n",
    "post_df = pd.read_csv('독립변수좌표/서울_우체국.csv',encoding='cp949') # 우체국\n",
    "children_df = pd.read_csv('독립변수좌표/서울_유치원.csv',encoding='cp949') # 유치원\n",
    "market_df = pd.read_csv('독립변수좌표/서울_전통시장.csv',encoding='cp949') # 전통시장\n",
    "middle_df = pd.read_csv('독립변수좌표/서울_중학교.csv',encoding='cp949') # 중학교\n",
    "element_df = pd.read_csv('독립변수좌표/서울_초등학교.csv',encoding='cp949') # 초등학교\n",
    "gs_df = pd.read_csv('독립변수좌표/서울_편의점.csv',encoding='cp949') # 편의점\n",
    "yu_df = pd.read_csv('독립변수좌표/서울_어린이집.csv',encoding='cp949') # 어린이집"
   ]
  },
  {
   "cell_type": "code",
   "execution_count": null,
   "metadata": {},
   "outputs": [],
   "source": [
    "fire = rb.make_distance(songpa_df, fire_df, '소방서')"
   ]
  }
 ],
 "metadata": {
  "kernelspec": {
   "display_name": "Python 3",
   "language": "python",
   "name": "python3"
  },
  "language_info": {
   "codemirror_mode": {
    "name": "ipython",
    "version": 3
   },
   "file_extension": ".py",
   "mimetype": "text/x-python",
   "name": "python",
   "nbconvert_exporter": "python",
   "pygments_lexer": "ipython3",
   "version": "3.8.5"
  }
 },
 "nbformat": 4,
 "nbformat_minor": 4
}
